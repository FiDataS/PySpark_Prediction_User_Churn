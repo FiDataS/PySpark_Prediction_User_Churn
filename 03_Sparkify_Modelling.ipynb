{
 "cells": [
  {
   "cell_type": "markdown",
   "metadata": {},
   "source": [
    "# Part 3: Modelling\n",
    "## Load libraries, create Spark session and import data"
   ]
  },
  {
   "cell_type": "code",
   "execution_count": 1,
   "metadata": {},
   "outputs": [],
   "source": [
    "# import libraries\n",
    "from pyspark.sql import SparkSession\n",
    "from pyspark.sql import functions as F\n",
    "from pyspark.sql.window import Window\n",
    "from pyspark.sql.functions import countDistinct\n",
    "import re\n",
    "from pyspark.sql.types import StringType, DoubleType, IntegerType\n",
    "\n",
    "import datetime\n",
    "import pandas as pd\n",
    "%matplotlib inline\n",
    "import matplotlib.pyplot as plt\n",
    "import seaborn as sns\n",
    "\n",
    "# Spark ML libraries\n",
    "from pyspark.ml import Pipeline\n",
    "from pyspark.ml.feature import VectorAssembler, StandardScaler, StringIndexer\n",
    "\n",
    "from sklearn.model_selection import train_test_split\n",
    "import numpy as np\n",
    "\n",
    "from pyspark.ml.classification import LogisticRegression, RandomForestClassifier, GBTClassifier, DecisionTreeClassifier, LinearSVC, OneVsRest\n",
    "from pyspark.ml.evaluation import BinaryClassificationEvaluator\n",
    "from pyspark.ml.evaluation import  MulticlassClassificationEvaluator\n",
    "from pyspark.ml.tuning import CrossValidator, ParamGridBuilder\n",
    "\n",
    "import time"
   ]
  },
  {
   "cell_type": "code",
   "execution_count": 2,
   "metadata": {},
   "outputs": [],
   "source": [
    "# create a Spark session\n",
    "spark = SparkSession \\\n",
    "    .builder \\\n",
    "    .appName(\"Sparkify Project ML\") \\\n",
    "    .getOrCreate()"
   ]
  },
  {
   "cell_type": "code",
   "execution_count": 3,
   "metadata": {},
   "outputs": [],
   "source": [
    "#change path here!\n",
    "path = \"data/user_feature_data.json\"\n",
    "data = spark.read.json(path)"
   ]
  },
  {
   "cell_type": "code",
   "execution_count": 4,
   "metadata": {},
   "outputs": [
    {
     "name": "stdout",
     "output_type": "stream",
     "text": [
      "root\n",
      " |-- Add_Friend_vs_NextSong: double (nullable = true)\n",
      " |-- Add_to_Playlist_vs_NextSong: double (nullable = true)\n",
      " |-- Churned_User: boolean (nullable = true)\n",
      " |-- Downgrade_vs_NextSong: double (nullable = true)\n",
      " |-- Roll_Advert_vs_NextSong: double (nullable = true)\n",
      " |-- Submit_Downgrade_vs_NextSong: double (nullable = true)\n",
      " |-- Submit_Upgrade_vs_NextSong: double (nullable = true)\n",
      " |-- Thumbs_Down_vs_NextSong: double (nullable = true)\n",
      " |-- Thumbs_Up_vs_NextSong: double (nullable = true)\n",
      " |-- Upgrade_vs_NextSong: double (nullable = true)\n",
      " |-- avg_amount_songs_played_per_session: double (nullable = true)\n",
      " |-- browser: string (nullable = true)\n",
      " |-- city: string (nullable = true)\n",
      " |-- gender: string (nullable = true)\n",
      " |-- hours_streaming_per_active_day: double (nullable = true)\n",
      " |-- level: string (nullable = true)\n",
      " |-- percentage_active_days: double (nullable = true)\n",
      " |-- platform: string (nullable = true)\n",
      " |-- state: string (nullable = true)\n",
      " |-- userId: string (nullable = true)\n",
      "\n"
     ]
    }
   ],
   "source": [
    "data.printSchema()"
   ]
  },
  {
   "cell_type": "markdown",
   "metadata": {},
   "source": [
    "# 5. Modeling"
   ]
  },
  {
   "cell_type": "markdown",
   "metadata": {},
   "source": [
    "Before we create the final dataframe to fit ML Models on we should check the features for multicollinearity. Multicollinearity happens when independent variables in the regression model are highly correlated to each other. It makes it hard to interpret of model and also creates an overfitting problem [[2](https://towardsdatascience.com/multi-collinearity-in-regression-fe7a2c1467ea)].\n",
    "\n",
    "Decision Trees and boosted tree algorithmns are immune to multicollinearty by nature.  When they decide to split, the tree will choose only one of the perfectly correlated features. However, other algorithms like Logistic Regression or Linear Regression are not immune to that problem and you should fix it before training the model [[3](https://towardsdatascience.com/why-feature-correlation-matters-a-lot-847e8ba439c4)].\n",
    "\n",
    "In the Heatmap below we can see that there is a high correlation between 'avg_amount_songs_played_per_session' and 'hours_streaming_per_active_day'. This makes sense since we would assume that users who play many songs per session would also have many hours streaming per active day. As a solution we will drop the 'avg_amount_songs_played_per_session' column."
   ]
  },
  {
   "cell_type": "code",
   "execution_count": 5,
   "metadata": {},
   "outputs": [
    {
     "data": {
      "text/html": [
       "<style  type=\"text/css\" >\n",
       "    #T_e6fabb80_a9db_11ec_ba69_0242ac120002row0_col0 {\n",
       "            background-color:  #b40426;\n",
       "        }    #T_e6fabb80_a9db_11ec_ba69_0242ac120002row0_col1 {\n",
       "            background-color:  #3b4cc0;\n",
       "        }    #T_e6fabb80_a9db_11ec_ba69_0242ac120002row0_col2 {\n",
       "            background-color:  #4c66d6;\n",
       "        }    #T_e6fabb80_a9db_11ec_ba69_0242ac120002row0_col3 {\n",
       "            background-color:  #9bbcff;\n",
       "        }    #T_e6fabb80_a9db_11ec_ba69_0242ac120002row0_col4 {\n",
       "            background-color:  #cedaeb;\n",
       "        }    #T_e6fabb80_a9db_11ec_ba69_0242ac120002row0_col5 {\n",
       "            background-color:  #3b4cc0;\n",
       "        }    #T_e6fabb80_a9db_11ec_ba69_0242ac120002row0_col6 {\n",
       "            background-color:  #5673e0;\n",
       "        }    #T_e6fabb80_a9db_11ec_ba69_0242ac120002row0_col7 {\n",
       "            background-color:  #6788ee;\n",
       "        }    #T_e6fabb80_a9db_11ec_ba69_0242ac120002row0_col8 {\n",
       "            background-color:  #88abfd;\n",
       "        }    #T_e6fabb80_a9db_11ec_ba69_0242ac120002row0_col9 {\n",
       "            background-color:  #cbd8ee;\n",
       "        }    #T_e6fabb80_a9db_11ec_ba69_0242ac120002row0_col10 {\n",
       "            background-color:  #97b8ff;\n",
       "        }    #T_e6fabb80_a9db_11ec_ba69_0242ac120002row0_col11 {\n",
       "            background-color:  #9bbcff;\n",
       "        }    #T_e6fabb80_a9db_11ec_ba69_0242ac120002row0_col12 {\n",
       "            background-color:  #3f53c6;\n",
       "        }    #T_e6fabb80_a9db_11ec_ba69_0242ac120002row1_col0 {\n",
       "            background-color:  #3f53c6;\n",
       "        }    #T_e6fabb80_a9db_11ec_ba69_0242ac120002row1_col1 {\n",
       "            background-color:  #b40426;\n",
       "        }    #T_e6fabb80_a9db_11ec_ba69_0242ac120002row1_col2 {\n",
       "            background-color:  #7093f3;\n",
       "        }    #T_e6fabb80_a9db_11ec_ba69_0242ac120002row1_col3 {\n",
       "            background-color:  #bfd3f6;\n",
       "        }    #T_e6fabb80_a9db_11ec_ba69_0242ac120002row1_col4 {\n",
       "            background-color:  #b5cdfa;\n",
       "        }    #T_e6fabb80_a9db_11ec_ba69_0242ac120002row1_col5 {\n",
       "            background-color:  #3e51c5;\n",
       "        }    #T_e6fabb80_a9db_11ec_ba69_0242ac120002row1_col6 {\n",
       "            background-color:  #7295f4;\n",
       "        }    #T_e6fabb80_a9db_11ec_ba69_0242ac120002row1_col7 {\n",
       "            background-color:  #c5d6f2;\n",
       "        }    #T_e6fabb80_a9db_11ec_ba69_0242ac120002row1_col8 {\n",
       "            background-color:  #485fd1;\n",
       "        }    #T_e6fabb80_a9db_11ec_ba69_0242ac120002row1_col9 {\n",
       "            background-color:  #8db0fe;\n",
       "        }    #T_e6fabb80_a9db_11ec_ba69_0242ac120002row1_col10 {\n",
       "            background-color:  #abc8fd;\n",
       "        }    #T_e6fabb80_a9db_11ec_ba69_0242ac120002row1_col11 {\n",
       "            background-color:  #afcafc;\n",
       "        }    #T_e6fabb80_a9db_11ec_ba69_0242ac120002row1_col12 {\n",
       "            background-color:  #5673e0;\n",
       "        }    #T_e6fabb80_a9db_11ec_ba69_0242ac120002row2_col0 {\n",
       "            background-color:  #5a78e4;\n",
       "        }    #T_e6fabb80_a9db_11ec_ba69_0242ac120002row2_col1 {\n",
       "            background-color:  #779af7;\n",
       "        }    #T_e6fabb80_a9db_11ec_ba69_0242ac120002row2_col2 {\n",
       "            background-color:  #b40426;\n",
       "        }    #T_e6fabb80_a9db_11ec_ba69_0242ac120002row2_col3 {\n",
       "            background-color:  #c3d5f4;\n",
       "        }    #T_e6fabb80_a9db_11ec_ba69_0242ac120002row2_col4 {\n",
       "            background-color:  #dcdddd;\n",
       "        }    #T_e6fabb80_a9db_11ec_ba69_0242ac120002row2_col5 {\n",
       "            background-color:  #4b64d5;\n",
       "        }    #T_e6fabb80_a9db_11ec_ba69_0242ac120002row2_col6 {\n",
       "            background-color:  #81a4fb;\n",
       "        }    #T_e6fabb80_a9db_11ec_ba69_0242ac120002row2_col7 {\n",
       "            background-color:  #b3cdfb;\n",
       "        }    #T_e6fabb80_a9db_11ec_ba69_0242ac120002row2_col8 {\n",
       "            background-color:  #5875e1;\n",
       "        }    #T_e6fabb80_a9db_11ec_ba69_0242ac120002row2_col9 {\n",
       "            background-color:  #a3c2fe;\n",
       "        }    #T_e6fabb80_a9db_11ec_ba69_0242ac120002row2_col10 {\n",
       "            background-color:  #9fbfff;\n",
       "        }    #T_e6fabb80_a9db_11ec_ba69_0242ac120002row2_col11 {\n",
       "            background-color:  #b2ccfb;\n",
       "        }    #T_e6fabb80_a9db_11ec_ba69_0242ac120002row2_col12 {\n",
       "            background-color:  #6384eb;\n",
       "        }    #T_e6fabb80_a9db_11ec_ba69_0242ac120002row3_col0 {\n",
       "            background-color:  #4055c8;\n",
       "        }    #T_e6fabb80_a9db_11ec_ba69_0242ac120002row3_col1 {\n",
       "            background-color:  #6c8ff1;\n",
       "        }    #T_e6fabb80_a9db_11ec_ba69_0242ac120002row3_col2 {\n",
       "            background-color:  #688aef;\n",
       "        }    #T_e6fabb80_a9db_11ec_ba69_0242ac120002row3_col3 {\n",
       "            background-color:  #b40426;\n",
       "        }    #T_e6fabb80_a9db_11ec_ba69_0242ac120002row3_col4 {\n",
       "            background-color:  #4055c8;\n",
       "        }    #T_e6fabb80_a9db_11ec_ba69_0242ac120002row3_col5 {\n",
       "            background-color:  #89acfd;\n",
       "        }    #T_e6fabb80_a9db_11ec_ba69_0242ac120002row3_col6 {\n",
       "            background-color:  #81a4fb;\n",
       "        }    #T_e6fabb80_a9db_11ec_ba69_0242ac120002row3_col7 {\n",
       "            background-color:  #5a78e4;\n",
       "        }    #T_e6fabb80_a9db_11ec_ba69_0242ac120002row3_col8 {\n",
       "            background-color:  #4b64d5;\n",
       "        }    #T_e6fabb80_a9db_11ec_ba69_0242ac120002row3_col9 {\n",
       "            background-color:  #4b64d5;\n",
       "        }    #T_e6fabb80_a9db_11ec_ba69_0242ac120002row3_col10 {\n",
       "            background-color:  #f7b89c;\n",
       "        }    #T_e6fabb80_a9db_11ec_ba69_0242ac120002row3_col11 {\n",
       "            background-color:  #f7b194;\n",
       "        }    #T_e6fabb80_a9db_11ec_ba69_0242ac120002row3_col12 {\n",
       "            background-color:  #96b7ff;\n",
       "        }    #T_e6fabb80_a9db_11ec_ba69_0242ac120002row4_col0 {\n",
       "            background-color:  #82a6fb;\n",
       "        }    #T_e6fabb80_a9db_11ec_ba69_0242ac120002row4_col1 {\n",
       "            background-color:  #5673e0;\n",
       "        }    #T_e6fabb80_a9db_11ec_ba69_0242ac120002row4_col2 {\n",
       "            background-color:  #90b2fe;\n",
       "        }    #T_e6fabb80_a9db_11ec_ba69_0242ac120002row4_col3 {\n",
       "            background-color:  #3b4cc0;\n",
       "        }    #T_e6fabb80_a9db_11ec_ba69_0242ac120002row4_col4 {\n",
       "            background-color:  #b40426;\n",
       "        }    #T_e6fabb80_a9db_11ec_ba69_0242ac120002row4_col5 {\n",
       "            background-color:  #506bda;\n",
       "        }    #T_e6fabb80_a9db_11ec_ba69_0242ac120002row4_col6 {\n",
       "            background-color:  #465ecf;\n",
       "        }    #T_e6fabb80_a9db_11ec_ba69_0242ac120002row4_col7 {\n",
       "            background-color:  #97b8ff;\n",
       "        }    #T_e6fabb80_a9db_11ec_ba69_0242ac120002row4_col8 {\n",
       "            background-color:  #465ecf;\n",
       "        }    #T_e6fabb80_a9db_11ec_ba69_0242ac120002row4_col9 {\n",
       "            background-color:  #d8dce2;\n",
       "        }    #T_e6fabb80_a9db_11ec_ba69_0242ac120002row4_col10 {\n",
       "            background-color:  #3b4cc0;\n",
       "        }    #T_e6fabb80_a9db_11ec_ba69_0242ac120002row4_col11 {\n",
       "            background-color:  #3b4cc0;\n",
       "        }    #T_e6fabb80_a9db_11ec_ba69_0242ac120002row4_col12 {\n",
       "            background-color:  #85a8fc;\n",
       "        }    #T_e6fabb80_a9db_11ec_ba69_0242ac120002row5_col0 {\n",
       "            background-color:  #4b64d5;\n",
       "        }    #T_e6fabb80_a9db_11ec_ba69_0242ac120002row5_col1 {\n",
       "            background-color:  #4a63d3;\n",
       "        }    #T_e6fabb80_a9db_11ec_ba69_0242ac120002row5_col2 {\n",
       "            background-color:  #506bda;\n",
       "        }    #T_e6fabb80_a9db_11ec_ba69_0242ac120002row5_col3 {\n",
       "            background-color:  #d8dce2;\n",
       "        }    #T_e6fabb80_a9db_11ec_ba69_0242ac120002row5_col4 {\n",
       "            background-color:  #bad0f8;\n",
       "        }    #T_e6fabb80_a9db_11ec_ba69_0242ac120002row5_col5 {\n",
       "            background-color:  #b40426;\n",
       "        }    #T_e6fabb80_a9db_11ec_ba69_0242ac120002row5_col6 {\n",
       "            background-color:  #89acfd;\n",
       "        }    #T_e6fabb80_a9db_11ec_ba69_0242ac120002row5_col7 {\n",
       "            background-color:  #7a9df8;\n",
       "        }    #T_e6fabb80_a9db_11ec_ba69_0242ac120002row5_col8 {\n",
       "            background-color:  #506bda;\n",
       "        }    #T_e6fabb80_a9db_11ec_ba69_0242ac120002row5_col9 {\n",
       "            background-color:  #9abbff;\n",
       "        }    #T_e6fabb80_a9db_11ec_ba69_0242ac120002row5_col10 {\n",
       "            background-color:  #b3cdfb;\n",
       "        }    #T_e6fabb80_a9db_11ec_ba69_0242ac120002row5_col11 {\n",
       "            background-color:  #bed2f6;\n",
       "        }    #T_e6fabb80_a9db_11ec_ba69_0242ac120002row5_col12 {\n",
       "            background-color:  #5f7fe8;\n",
       "        }    #T_e6fabb80_a9db_11ec_ba69_0242ac120002row6_col0 {\n",
       "            background-color:  #5e7de7;\n",
       "        }    #T_e6fabb80_a9db_11ec_ba69_0242ac120002row6_col1 {\n",
       "            background-color:  #7597f6;\n",
       "        }    #T_e6fabb80_a9db_11ec_ba69_0242ac120002row6_col2 {\n",
       "            background-color:  #7b9ff9;\n",
       "        }    #T_e6fabb80_a9db_11ec_ba69_0242ac120002row6_col3 {\n",
       "            background-color:  #cdd9ec;\n",
       "        }    #T_e6fabb80_a9db_11ec_ba69_0242ac120002row6_col4 {\n",
       "            background-color:  #abc8fd;\n",
       "        }    #T_e6fabb80_a9db_11ec_ba69_0242ac120002row6_col5 {\n",
       "            background-color:  #80a3fa;\n",
       "        }    #T_e6fabb80_a9db_11ec_ba69_0242ac120002row6_col6 {\n",
       "            background-color:  #b40426;\n",
       "        }    #T_e6fabb80_a9db_11ec_ba69_0242ac120002row6_col7 {\n",
       "            background-color:  #7295f4;\n",
       "        }    #T_e6fabb80_a9db_11ec_ba69_0242ac120002row6_col8 {\n",
       "            background-color:  #799cf8;\n",
       "        }    #T_e6fabb80_a9db_11ec_ba69_0242ac120002row6_col9 {\n",
       "            background-color:  #f6bea4;\n",
       "        }    #T_e6fabb80_a9db_11ec_ba69_0242ac120002row6_col10 {\n",
       "            background-color:  #9fbfff;\n",
       "        }    #T_e6fabb80_a9db_11ec_ba69_0242ac120002row6_col11 {\n",
       "            background-color:  #a1c0ff;\n",
       "        }    #T_e6fabb80_a9db_11ec_ba69_0242ac120002row6_col12 {\n",
       "            background-color:  #4f69d9;\n",
       "        }    #T_e6fabb80_a9db_11ec_ba69_0242ac120002row7_col0 {\n",
       "            background-color:  #6c8ff1;\n",
       "        }    #T_e6fabb80_a9db_11ec_ba69_0242ac120002row7_col1 {\n",
       "            background-color:  #c6d6f1;\n",
       "        }    #T_e6fabb80_a9db_11ec_ba69_0242ac120002row7_col2 {\n",
       "            background-color:  #afcafc;\n",
       "        }    #T_e6fabb80_a9db_11ec_ba69_0242ac120002row7_col3 {\n",
       "            background-color:  #b3cdfb;\n",
       "        }    #T_e6fabb80_a9db_11ec_ba69_0242ac120002row7_col4 {\n",
       "            background-color:  #dcdddd;\n",
       "        }    #T_e6fabb80_a9db_11ec_ba69_0242ac120002row7_col5 {\n",
       "            background-color:  #6f92f3;\n",
       "        }    #T_e6fabb80_a9db_11ec_ba69_0242ac120002row7_col6 {\n",
       "            background-color:  #6f92f3;\n",
       "        }    #T_e6fabb80_a9db_11ec_ba69_0242ac120002row7_col7 {\n",
       "            background-color:  #b40426;\n",
       "        }    #T_e6fabb80_a9db_11ec_ba69_0242ac120002row7_col8 {\n",
       "            background-color:  #485fd1;\n",
       "        }    #T_e6fabb80_a9db_11ec_ba69_0242ac120002row7_col9 {\n",
       "            background-color:  #a6c4fe;\n",
       "        }    #T_e6fabb80_a9db_11ec_ba69_0242ac120002row7_col10 {\n",
       "            background-color:  #9abbff;\n",
       "        }    #T_e6fabb80_a9db_11ec_ba69_0242ac120002row7_col11 {\n",
       "            background-color:  #a3c2fe;\n",
       "        }    #T_e6fabb80_a9db_11ec_ba69_0242ac120002row7_col12 {\n",
       "            background-color:  #5d7ce6;\n",
       "        }    #T_e6fabb80_a9db_11ec_ba69_0242ac120002row8_col0 {\n",
       "            background-color:  #89acfd;\n",
       "        }    #T_e6fabb80_a9db_11ec_ba69_0242ac120002row8_col1 {\n",
       "            background-color:  #445acc;\n",
       "        }    #T_e6fabb80_a9db_11ec_ba69_0242ac120002row8_col2 {\n",
       "            background-color:  #4c66d6;\n",
       "        }    #T_e6fabb80_a9db_11ec_ba69_0242ac120002row8_col3 {\n",
       "            background-color:  #a5c3fe;\n",
       "        }    #T_e6fabb80_a9db_11ec_ba69_0242ac120002row8_col4 {\n",
       "            background-color:  #a6c4fe;\n",
       "        }    #T_e6fabb80_a9db_11ec_ba69_0242ac120002row8_col5 {\n",
       "            background-color:  #4055c8;\n",
       "        }    #T_e6fabb80_a9db_11ec_ba69_0242ac120002row8_col6 {\n",
       "            background-color:  #7396f5;\n",
       "        }    #T_e6fabb80_a9db_11ec_ba69_0242ac120002row8_col7 {\n",
       "            background-color:  #445acc;\n",
       "        }    #T_e6fabb80_a9db_11ec_ba69_0242ac120002row8_col8 {\n",
       "            background-color:  #b40426;\n",
       "        }    #T_e6fabb80_a9db_11ec_ba69_0242ac120002row8_col9 {\n",
       "            background-color:  #98b9ff;\n",
       "        }    #T_e6fabb80_a9db_11ec_ba69_0242ac120002row8_col10 {\n",
       "            background-color:  #a9c6fd;\n",
       "        }    #T_e6fabb80_a9db_11ec_ba69_0242ac120002row8_col11 {\n",
       "            background-color:  #b6cefa;\n",
       "        }    #T_e6fabb80_a9db_11ec_ba69_0242ac120002row8_col12 {\n",
       "            background-color:  #3e51c5;\n",
       "        }    #T_e6fabb80_a9db_11ec_ba69_0242ac120002row9_col0 {\n",
       "            background-color:  #abc8fd;\n",
       "        }    #T_e6fabb80_a9db_11ec_ba69_0242ac120002row9_col1 {\n",
       "            background-color:  #5b7ae5;\n",
       "        }    #T_e6fabb80_a9db_11ec_ba69_0242ac120002row9_col2 {\n",
       "            background-color:  #6c8ff1;\n",
       "        }    #T_e6fabb80_a9db_11ec_ba69_0242ac120002row9_col3 {\n",
       "            background-color:  #799cf8;\n",
       "        }    #T_e6fabb80_a9db_11ec_ba69_0242ac120002row9_col4 {\n",
       "            background-color:  #edd2c3;\n",
       "        }    #T_e6fabb80_a9db_11ec_ba69_0242ac120002row9_col5 {\n",
       "            background-color:  #5d7ce6;\n",
       "        }    #T_e6fabb80_a9db_11ec_ba69_0242ac120002row9_col6 {\n",
       "            background-color:  #edd1c2;\n",
       "        }    #T_e6fabb80_a9db_11ec_ba69_0242ac120002row9_col7 {\n",
       "            background-color:  #7699f6;\n",
       "        }    #T_e6fabb80_a9db_11ec_ba69_0242ac120002row9_col8 {\n",
       "            background-color:  #6b8df0;\n",
       "        }    #T_e6fabb80_a9db_11ec_ba69_0242ac120002row9_col9 {\n",
       "            background-color:  #b40426;\n",
       "        }    #T_e6fabb80_a9db_11ec_ba69_0242ac120002row9_col10 {\n",
       "            background-color:  #6a8bef;\n",
       "        }    #T_e6fabb80_a9db_11ec_ba69_0242ac120002row9_col11 {\n",
       "            background-color:  #6f92f3;\n",
       "        }    #T_e6fabb80_a9db_11ec_ba69_0242ac120002row9_col12 {\n",
       "            background-color:  #3b4cc0;\n",
       "        }    #T_e6fabb80_a9db_11ec_ba69_0242ac120002row10_col0 {\n",
       "            background-color:  #3e51c5;\n",
       "        }    #T_e6fabb80_a9db_11ec_ba69_0242ac120002row10_col1 {\n",
       "            background-color:  #516ddb;\n",
       "        }    #T_e6fabb80_a9db_11ec_ba69_0242ac120002row10_col2 {\n",
       "            background-color:  #3b4cc0;\n",
       "        }    #T_e6fabb80_a9db_11ec_ba69_0242ac120002row10_col3 {\n",
       "            background-color:  #f7b89c;\n",
       "        }    #T_e6fabb80_a9db_11ec_ba69_0242ac120002row10_col4 {\n",
       "            background-color:  #4257c9;\n",
       "        }    #T_e6fabb80_a9db_11ec_ba69_0242ac120002row10_col5 {\n",
       "            background-color:  #4f69d9;\n",
       "        }    #T_e6fabb80_a9db_11ec_ba69_0242ac120002row10_col6 {\n",
       "            background-color:  #3f53c6;\n",
       "        }    #T_e6fabb80_a9db_11ec_ba69_0242ac120002row10_col7 {\n",
       "            background-color:  #3b4cc0;\n",
       "        }    #T_e6fabb80_a9db_11ec_ba69_0242ac120002row10_col8 {\n",
       "            background-color:  #516ddb;\n",
       "        }    #T_e6fabb80_a9db_11ec_ba69_0242ac120002row10_col9 {\n",
       "            background-color:  #3d50c3;\n",
       "        }    #T_e6fabb80_a9db_11ec_ba69_0242ac120002row10_col10 {\n",
       "            background-color:  #b40426;\n",
       "        }    #T_e6fabb80_a9db_11ec_ba69_0242ac120002row10_col11 {\n",
       "            background-color:  #ca3b37;\n",
       "        }    #T_e6fabb80_a9db_11ec_ba69_0242ac120002row10_col12 {\n",
       "            background-color:  #7597f6;\n",
       "        }    #T_e6fabb80_a9db_11ec_ba69_0242ac120002row11_col0 {\n",
       "            background-color:  #3b4cc0;\n",
       "        }    #T_e6fabb80_a9db_11ec_ba69_0242ac120002row11_col1 {\n",
       "            background-color:  #4f69d9;\n",
       "        }    #T_e6fabb80_a9db_11ec_ba69_0242ac120002row11_col2 {\n",
       "            background-color:  #4b64d5;\n",
       "        }    #T_e6fabb80_a9db_11ec_ba69_0242ac120002row11_col3 {\n",
       "            background-color:  #f7b497;\n",
       "        }    #T_e6fabb80_a9db_11ec_ba69_0242ac120002row11_col4 {\n",
       "            background-color:  #3b4cc0;\n",
       "        }    #T_e6fabb80_a9db_11ec_ba69_0242ac120002row11_col5 {\n",
       "            background-color:  #5673e0;\n",
       "        }    #T_e6fabb80_a9db_11ec_ba69_0242ac120002row11_col6 {\n",
       "            background-color:  #3b4cc0;\n",
       "        }    #T_e6fabb80_a9db_11ec_ba69_0242ac120002row11_col7 {\n",
       "            background-color:  #3e51c5;\n",
       "        }    #T_e6fabb80_a9db_11ec_ba69_0242ac120002row11_col8 {\n",
       "            background-color:  #5b7ae5;\n",
       "        }    #T_e6fabb80_a9db_11ec_ba69_0242ac120002row11_col9 {\n",
       "            background-color:  #3b4cc0;\n",
       "        }    #T_e6fabb80_a9db_11ec_ba69_0242ac120002row11_col10 {\n",
       "            background-color:  #ca3b37;\n",
       "        }    #T_e6fabb80_a9db_11ec_ba69_0242ac120002row11_col11 {\n",
       "            background-color:  #b40426;\n",
       "        }    #T_e6fabb80_a9db_11ec_ba69_0242ac120002row11_col12 {\n",
       "            background-color:  #89acfd;\n",
       "        }    #T_e6fabb80_a9db_11ec_ba69_0242ac120002row12_col0 {\n",
       "            background-color:  #3d50c3;\n",
       "        }    #T_e6fabb80_a9db_11ec_ba69_0242ac120002row12_col1 {\n",
       "            background-color:  #4f69d9;\n",
       "        }    #T_e6fabb80_a9db_11ec_ba69_0242ac120002row12_col2 {\n",
       "            background-color:  #5572df;\n",
       "        }    #T_e6fabb80_a9db_11ec_ba69_0242ac120002row12_col3 {\n",
       "            background-color:  #d5dbe5;\n",
       "        }    #T_e6fabb80_a9db_11ec_ba69_0242ac120002row12_col4 {\n",
       "            background-color:  #cedaeb;\n",
       "        }    #T_e6fabb80_a9db_11ec_ba69_0242ac120002row12_col5 {\n",
       "            background-color:  #4c66d6;\n",
       "        }    #T_e6fabb80_a9db_11ec_ba69_0242ac120002row12_col6 {\n",
       "            background-color:  #455cce;\n",
       "        }    #T_e6fabb80_a9db_11ec_ba69_0242ac120002row12_col7 {\n",
       "            background-color:  #5470de;\n",
       "        }    #T_e6fabb80_a9db_11ec_ba69_0242ac120002row12_col8 {\n",
       "            background-color:  #3b4cc0;\n",
       "        }    #T_e6fabb80_a9db_11ec_ba69_0242ac120002row12_col9 {\n",
       "            background-color:  #6788ee;\n",
       "        }    #T_e6fabb80_a9db_11ec_ba69_0242ac120002row12_col10 {\n",
       "            background-color:  #c0d4f5;\n",
       "        }    #T_e6fabb80_a9db_11ec_ba69_0242ac120002row12_col11 {\n",
       "            background-color:  #d2dbe8;\n",
       "        }    #T_e6fabb80_a9db_11ec_ba69_0242ac120002row12_col12 {\n",
       "            background-color:  #b40426;\n",
       "        }</style>  \n",
       "<table id=\"T_e6fabb80_a9db_11ec_ba69_0242ac120002\" > \n",
       "<thead>    <tr> \n",
       "        <th class=\"blank level0\" ></th> \n",
       "        <th class=\"col_heading level0 col0\" >Add_Friend_vs_NextSong</th> \n",
       "        <th class=\"col_heading level0 col1\" >Add_to_Playlist_vs_NextSong</th> \n",
       "        <th class=\"col_heading level0 col2\" >Churned_User</th> \n",
       "        <th class=\"col_heading level0 col3\" >Downgrade_vs_NextSong</th> \n",
       "        <th class=\"col_heading level0 col4\" >Roll_Advert_vs_NextSong</th> \n",
       "        <th class=\"col_heading level0 col5\" >Submit_Downgrade_vs_NextSong</th> \n",
       "        <th class=\"col_heading level0 col6\" >Submit_Upgrade_vs_NextSong</th> \n",
       "        <th class=\"col_heading level0 col7\" >Thumbs_Down_vs_NextSong</th> \n",
       "        <th class=\"col_heading level0 col8\" >Thumbs_Up_vs_NextSong</th> \n",
       "        <th class=\"col_heading level0 col9\" >Upgrade_vs_NextSong</th> \n",
       "        <th class=\"col_heading level0 col10\" >avg_amount_songs_played_per_session</th> \n",
       "        <th class=\"col_heading level0 col11\" >hours_streaming_per_active_day</th> \n",
       "        <th class=\"col_heading level0 col12\" >percentage_active_days</th> \n",
       "    </tr></thead> \n",
       "<tbody>    <tr> \n",
       "        <th id=\"T_e6fabb80_a9db_11ec_ba69_0242ac120002level0_row0\" class=\"row_heading level0 row0\" >Add_Friend_vs_NextSong</th> \n",
       "        <td id=\"T_e6fabb80_a9db_11ec_ba69_0242ac120002row0_col0\" class=\"data row0 col0\" >1</td> \n",
       "        <td id=\"T_e6fabb80_a9db_11ec_ba69_0242ac120002row0_col1\" class=\"data row0 col1\" >-0.123878</td> \n",
       "        <td id=\"T_e6fabb80_a9db_11ec_ba69_0242ac120002row0_col2\" class=\"data row0 col2\" >-0.0256965</td> \n",
       "        <td id=\"T_e6fabb80_a9db_11ec_ba69_0242ac120002row0_col3\" class=\"data row0 col3\" >-0.117012</td> \n",
       "        <td id=\"T_e6fabb80_a9db_11ec_ba69_0242ac120002row0_col4\" class=\"data row0 col4\" >0.112015</td> \n",
       "        <td id=\"T_e6fabb80_a9db_11ec_ba69_0242ac120002row0_col5\" class=\"data row0 col5\" >-0.0760662</td> \n",
       "        <td id=\"T_e6fabb80_a9db_11ec_ba69_0242ac120002row0_col6\" class=\"data row0 col6\" >-0.0101894</td> \n",
       "        <td id=\"T_e6fabb80_a9db_11ec_ba69_0242ac120002row0_col7\" class=\"data row0 col7\" >0.0387268</td> \n",
       "        <td id=\"T_e6fabb80_a9db_11ec_ba69_0242ac120002row0_col8\" class=\"data row0 col8\" >0.131999</td> \n",
       "        <td id=\"T_e6fabb80_a9db_11ec_ba69_0242ac120002row0_col9\" class=\"data row0 col9\" >0.243859</td> \n",
       "        <td id=\"T_e6fabb80_a9db_11ec_ba69_0242ac120002row0_col10\" class=\"data row0 col10\" >-0.128236</td> \n",
       "        <td id=\"T_e6fabb80_a9db_11ec_ba69_0242ac120002row0_col11\" class=\"data row0 col11\" >-0.14184</td> \n",
       "        <td id=\"T_e6fabb80_a9db_11ec_ba69_0242ac120002row0_col12\" class=\"data row0 col12\" >-0.130312</td> \n",
       "    </tr>    <tr> \n",
       "        <th id=\"T_e6fabb80_a9db_11ec_ba69_0242ac120002level0_row1\" class=\"row_heading level0 row1\" >Add_to_Playlist_vs_NextSong</th> \n",
       "        <td id=\"T_e6fabb80_a9db_11ec_ba69_0242ac120002row1_col0\" class=\"data row1 col0\" >-0.123878</td> \n",
       "        <td id=\"T_e6fabb80_a9db_11ec_ba69_0242ac120002row1_col1\" class=\"data row1 col1\" >1</td> \n",
       "        <td id=\"T_e6fabb80_a9db_11ec_ba69_0242ac120002row1_col2\" class=\"data row1 col2\" >0.0908711</td> \n",
       "        <td id=\"T_e6fabb80_a9db_11ec_ba69_0242ac120002row1_col3\" class=\"data row1 col3\" >0.0528167</td> \n",
       "        <td id=\"T_e6fabb80_a9db_11ec_ba69_0242ac120002row1_col4\" class=\"data row1 col4\" >-0.0220204</td> \n",
       "        <td id=\"T_e6fabb80_a9db_11ec_ba69_0242ac120002row1_col5\" class=\"data row1 col5\" >-0.0625647</td> \n",
       "        <td id=\"T_e6fabb80_a9db_11ec_ba69_0242ac120002row1_col6\" class=\"data row1 col6\" >0.0804027</td> \n",
       "        <td id=\"T_e6fabb80_a9db_11ec_ba69_0242ac120002row1_col7\" class=\"data row1 col7\" >0.347583</td> \n",
       "        <td id=\"T_e6fabb80_a9db_11ec_ba69_0242ac120002row1_col8\" class=\"data row1 col8\" >-0.0868588</td> \n",
       "        <td id=\"T_e6fabb80_a9db_11ec_ba69_0242ac120002row1_col9\" class=\"data row1 col9\" >-0.0028199</td> \n",
       "        <td id=\"T_e6fabb80_a9db_11ec_ba69_0242ac120002row1_col10\" class=\"data row1 col10\" >-0.0397702</td> \n",
       "        <td id=\"T_e6fabb80_a9db_11ec_ba69_0242ac120002row1_col11\" class=\"data row1 col11\" >-0.0475576</td> \n",
       "        <td id=\"T_e6fabb80_a9db_11ec_ba69_0242ac120002row1_col12\" class=\"data row1 col12\" >-0.0469157</td> \n",
       "    </tr>    <tr> \n",
       "        <th id=\"T_e6fabb80_a9db_11ec_ba69_0242ac120002level0_row2\" class=\"row_heading level0 row2\" >Churned_User</th> \n",
       "        <td id=\"T_e6fabb80_a9db_11ec_ba69_0242ac120002row2_col0\" class=\"data row2 col0\" >-0.0256965</td> \n",
       "        <td id=\"T_e6fabb80_a9db_11ec_ba69_0242ac120002row2_col1\" class=\"data row2 col1\" >0.0908711</td> \n",
       "        <td id=\"T_e6fabb80_a9db_11ec_ba69_0242ac120002row2_col2\" class=\"data row2 col2\" >1</td> \n",
       "        <td id=\"T_e6fabb80_a9db_11ec_ba69_0242ac120002row2_col3\" class=\"data row2 col3\" >0.0674851</td> \n",
       "        <td id=\"T_e6fabb80_a9db_11ec_ba69_0242ac120002row2_col4\" class=\"data row2 col4\" >0.191115</td> \n",
       "        <td id=\"T_e6fabb80_a9db_11ec_ba69_0242ac120002row2_col5\" class=\"data row2 col5\" >-0.0156088</td> \n",
       "        <td id=\"T_e6fabb80_a9db_11ec_ba69_0242ac120002row2_col6\" class=\"data row2 col6\" >0.126684</td> \n",
       "        <td id=\"T_e6fabb80_a9db_11ec_ba69_0242ac120002row2_col7\" class=\"data row2 col7\" >0.286773</td> \n",
       "        <td id=\"T_e6fabb80_a9db_11ec_ba69_0242ac120002row2_col8\" class=\"data row2 col8\" >-0.0268162</td> \n",
       "        <td id=\"T_e6fabb80_a9db_11ec_ba69_0242ac120002row2_col9\" class=\"data row2 col9\" >0.0787684</td> \n",
       "        <td id=\"T_e6fabb80_a9db_11ec_ba69_0242ac120002row2_col10\" class=\"data row2 col10\" >-0.0935128</td> \n",
       "        <td id=\"T_e6fabb80_a9db_11ec_ba69_0242ac120002row2_col11\" class=\"data row2 col11\" >-0.033616</td> \n",
       "        <td id=\"T_e6fabb80_a9db_11ec_ba69_0242ac120002row2_col12\" class=\"data row2 col12\" >0.00141933</td> \n",
       "    </tr>    <tr> \n",
       "        <th id=\"T_e6fabb80_a9db_11ec_ba69_0242ac120002level0_row3\" class=\"row_heading level0 row3\" >Downgrade_vs_NextSong</th> \n",
       "        <td id=\"T_e6fabb80_a9db_11ec_ba69_0242ac120002row3_col0\" class=\"data row3 col0\" >-0.117012</td> \n",
       "        <td id=\"T_e6fabb80_a9db_11ec_ba69_0242ac120002row3_col1\" class=\"data row3 col1\" >0.0528167</td> \n",
       "        <td id=\"T_e6fabb80_a9db_11ec_ba69_0242ac120002row3_col2\" class=\"data row3 col2\" >0.0674851</td> \n",
       "        <td id=\"T_e6fabb80_a9db_11ec_ba69_0242ac120002row3_col3\" class=\"data row3 col3\" >1</td> \n",
       "        <td id=\"T_e6fabb80_a9db_11ec_ba69_0242ac120002row3_col4\" class=\"data row3 col4\" >-0.572771</td> \n",
       "        <td id=\"T_e6fabb80_a9db_11ec_ba69_0242ac120002row3_col5\" class=\"data row3 col5\" >0.18362</td> \n",
       "        <td id=\"T_e6fabb80_a9db_11ec_ba69_0242ac120002row3_col6\" class=\"data row3 col6\" >0.125119</td> \n",
       "        <td id=\"T_e6fabb80_a9db_11ec_ba69_0242ac120002row3_col7\" class=\"data row3 col7\" >-0.00537724</td> \n",
       "        <td id=\"T_e6fabb80_a9db_11ec_ba69_0242ac120002row3_col8\" class=\"data row3 col8\" >-0.0737521</td> \n",
       "        <td id=\"T_e6fabb80_a9db_11ec_ba69_0242ac120002row3_col9\" class=\"data row3 col9\" >-0.269993</td> \n",
       "        <td id=\"T_e6fabb80_a9db_11ec_ba69_0242ac120002row3_col10\" class=\"data row3 col10\" >0.477466</td> \n",
       "        <td id=\"T_e6fabb80_a9db_11ec_ba69_0242ac120002row3_col11\" class=\"data row3 col11\" >0.49525</td> \n",
       "        <td id=\"T_e6fabb80_a9db_11ec_ba69_0242ac120002row3_col12\" class=\"data row3 col12\" >0.165503</td> \n",
       "    </tr>    <tr> \n",
       "        <th id=\"T_e6fabb80_a9db_11ec_ba69_0242ac120002level0_row4\" class=\"row_heading level0 row4\" >Roll_Advert_vs_NextSong</th> \n",
       "        <td id=\"T_e6fabb80_a9db_11ec_ba69_0242ac120002row4_col0\" class=\"data row4 col0\" >0.112015</td> \n",
       "        <td id=\"T_e6fabb80_a9db_11ec_ba69_0242ac120002row4_col1\" class=\"data row4 col1\" >-0.0220204</td> \n",
       "        <td id=\"T_e6fabb80_a9db_11ec_ba69_0242ac120002row4_col2\" class=\"data row4 col2\" >0.191115</td> \n",
       "        <td id=\"T_e6fabb80_a9db_11ec_ba69_0242ac120002row4_col3\" class=\"data row4 col3\" >-0.572771</td> \n",
       "        <td id=\"T_e6fabb80_a9db_11ec_ba69_0242ac120002row4_col4\" class=\"data row4 col4\" >1</td> \n",
       "        <td id=\"T_e6fabb80_a9db_11ec_ba69_0242ac120002row4_col5\" class=\"data row4 col5\" >0.00182316</td> \n",
       "        <td id=\"T_e6fabb80_a9db_11ec_ba69_0242ac120002row4_col6\" class=\"data row4 col6\" >-0.0674437</td> \n",
       "        <td id=\"T_e6fabb80_a9db_11ec_ba69_0242ac120002row4_col7\" class=\"data row4 col7\" >0.192719</td> \n",
       "        <td id=\"T_e6fabb80_a9db_11ec_ba69_0242ac120002row4_col8\" class=\"data row4 col8\" >-0.090543</td> \n",
       "        <td id=\"T_e6fabb80_a9db_11ec_ba69_0242ac120002row4_col9\" class=\"data row4 col9\" >0.305895</td> \n",
       "        <td id=\"T_e6fabb80_a9db_11ec_ba69_0242ac120002row4_col10\" class=\"data row4 col10\" >-0.569393</td> \n",
       "        <td id=\"T_e6fabb80_a9db_11ec_ba69_0242ac120002row4_col11\" class=\"data row4 col11\" >-0.608077</td> \n",
       "        <td id=\"T_e6fabb80_a9db_11ec_ba69_0242ac120002row4_col12\" class=\"data row4 col12\" >0.112291</td> \n",
       "    </tr>    <tr> \n",
       "        <th id=\"T_e6fabb80_a9db_11ec_ba69_0242ac120002level0_row5\" class=\"row_heading level0 row5\" >Submit_Downgrade_vs_NextSong</th> \n",
       "        <td id=\"T_e6fabb80_a9db_11ec_ba69_0242ac120002row5_col0\" class=\"data row5 col0\" >-0.0760662</td> \n",
       "        <td id=\"T_e6fabb80_a9db_11ec_ba69_0242ac120002row5_col1\" class=\"data row5 col1\" >-0.0625647</td> \n",
       "        <td id=\"T_e6fabb80_a9db_11ec_ba69_0242ac120002row5_col2\" class=\"data row5 col2\" >-0.0156088</td> \n",
       "        <td id=\"T_e6fabb80_a9db_11ec_ba69_0242ac120002row5_col3\" class=\"data row5 col3\" >0.18362</td> \n",
       "        <td id=\"T_e6fabb80_a9db_11ec_ba69_0242ac120002row5_col4\" class=\"data row5 col4\" >0.00182316</td> \n",
       "        <td id=\"T_e6fabb80_a9db_11ec_ba69_0242ac120002row5_col5\" class=\"data row5 col5\" >1</td> \n",
       "        <td id=\"T_e6fabb80_a9db_11ec_ba69_0242ac120002row5_col6\" class=\"data row5 col6\" >0.151239</td> \n",
       "        <td id=\"T_e6fabb80_a9db_11ec_ba69_0242ac120002row5_col7\" class=\"data row5 col7\" >0.101531</td> \n",
       "        <td id=\"T_e6fabb80_a9db_11ec_ba69_0242ac120002row5_col8\" class=\"data row5 col8\" >-0.052904</td> \n",
       "        <td id=\"T_e6fabb80_a9db_11ec_ba69_0242ac120002row5_col9\" class=\"data row5 col9\" >0.0446434</td> \n",
       "        <td id=\"T_e6fabb80_a9db_11ec_ba69_0242ac120002row5_col10\" class=\"data row5 col10\" >-0.00103971</td> \n",
       "        <td id=\"T_e6fabb80_a9db_11ec_ba69_0242ac120002row5_col11\" class=\"data row5 col11\" >0.0230996</td> \n",
       "        <td id=\"T_e6fabb80_a9db_11ec_ba69_0242ac120002row5_col12\" class=\"data row5 col12\" >-0.0118251</td> \n",
       "    </tr>    <tr> \n",
       "        <th id=\"T_e6fabb80_a9db_11ec_ba69_0242ac120002level0_row6\" class=\"row_heading level0 row6\" >Submit_Upgrade_vs_NextSong</th> \n",
       "        <td id=\"T_e6fabb80_a9db_11ec_ba69_0242ac120002row6_col0\" class=\"data row6 col0\" >-0.0101894</td> \n",
       "        <td id=\"T_e6fabb80_a9db_11ec_ba69_0242ac120002row6_col1\" class=\"data row6 col1\" >0.0804027</td> \n",
       "        <td id=\"T_e6fabb80_a9db_11ec_ba69_0242ac120002row6_col2\" class=\"data row6 col2\" >0.126684</td> \n",
       "        <td id=\"T_e6fabb80_a9db_11ec_ba69_0242ac120002row6_col3\" class=\"data row6 col3\" >0.125119</td> \n",
       "        <td id=\"T_e6fabb80_a9db_11ec_ba69_0242ac120002row6_col4\" class=\"data row6 col4\" >-0.0674437</td> \n",
       "        <td id=\"T_e6fabb80_a9db_11ec_ba69_0242ac120002row6_col5\" class=\"data row6 col5\" >0.151239</td> \n",
       "        <td id=\"T_e6fabb80_a9db_11ec_ba69_0242ac120002row6_col6\" class=\"data row6 col6\" >1</td> \n",
       "        <td id=\"T_e6fabb80_a9db_11ec_ba69_0242ac120002row6_col7\" class=\"data row6 col7\" >0.0727234</td> \n",
       "        <td id=\"T_e6fabb80_a9db_11ec_ba69_0242ac120002row6_col8\" class=\"data row6 col8\" >0.0833533</td> \n",
       "        <td id=\"T_e6fabb80_a9db_11ec_ba69_0242ac120002row6_col9\" class=\"data row6 col9\" >0.523289</td> \n",
       "        <td id=\"T_e6fabb80_a9db_11ec_ba69_0242ac120002row6_col10\" class=\"data row6 col10\" >-0.0953481</td> \n",
       "        <td id=\"T_e6fabb80_a9db_11ec_ba69_0242ac120002row6_col11\" class=\"data row6 col11\" >-0.114323</td> \n",
       "        <td id=\"T_e6fabb80_a9db_11ec_ba69_0242ac120002row6_col12\" class=\"data row6 col12\" >-0.0743234</td> \n",
       "    </tr>    <tr> \n",
       "        <th id=\"T_e6fabb80_a9db_11ec_ba69_0242ac120002level0_row7\" class=\"row_heading level0 row7\" >Thumbs_Down_vs_NextSong</th> \n",
       "        <td id=\"T_e6fabb80_a9db_11ec_ba69_0242ac120002row7_col0\" class=\"data row7 col0\" >0.0387268</td> \n",
       "        <td id=\"T_e6fabb80_a9db_11ec_ba69_0242ac120002row7_col1\" class=\"data row7 col1\" >0.347583</td> \n",
       "        <td id=\"T_e6fabb80_a9db_11ec_ba69_0242ac120002row7_col2\" class=\"data row7 col2\" >0.286773</td> \n",
       "        <td id=\"T_e6fabb80_a9db_11ec_ba69_0242ac120002row7_col3\" class=\"data row7 col3\" >-0.00537724</td> \n",
       "        <td id=\"T_e6fabb80_a9db_11ec_ba69_0242ac120002row7_col4\" class=\"data row7 col4\" >0.192719</td> \n",
       "        <td id=\"T_e6fabb80_a9db_11ec_ba69_0242ac120002row7_col5\" class=\"data row7 col5\" >0.101531</td> \n",
       "        <td id=\"T_e6fabb80_a9db_11ec_ba69_0242ac120002row7_col6\" class=\"data row7 col6\" >0.0727234</td> \n",
       "        <td id=\"T_e6fabb80_a9db_11ec_ba69_0242ac120002row7_col7\" class=\"data row7 col7\" >1</td> \n",
       "        <td id=\"T_e6fabb80_a9db_11ec_ba69_0242ac120002row7_col8\" class=\"data row7 col8\" >-0.0840966</td> \n",
       "        <td id=\"T_e6fabb80_a9db_11ec_ba69_0242ac120002row7_col9\" class=\"data row7 col9\" >0.0899833</td> \n",
       "        <td id=\"T_e6fabb80_a9db_11ec_ba69_0242ac120002row7_col10\" class=\"data row7 col10\" >-0.119858</td> \n",
       "        <td id=\"T_e6fabb80_a9db_11ec_ba69_0242ac120002row7_col11\" class=\"data row7 col11\" >-0.104073</td> \n",
       "        <td id=\"T_e6fabb80_a9db_11ec_ba69_0242ac120002row7_col12\" class=\"data row7 col12\" >-0.024663</td> \n",
       "    </tr>    <tr> \n",
       "        <th id=\"T_e6fabb80_a9db_11ec_ba69_0242ac120002level0_row8\" class=\"row_heading level0 row8\" >Thumbs_Up_vs_NextSong</th> \n",
       "        <td id=\"T_e6fabb80_a9db_11ec_ba69_0242ac120002row8_col0\" class=\"data row8 col0\" >0.131999</td> \n",
       "        <td id=\"T_e6fabb80_a9db_11ec_ba69_0242ac120002row8_col1\" class=\"data row8 col1\" >-0.0868588</td> \n",
       "        <td id=\"T_e6fabb80_a9db_11ec_ba69_0242ac120002row8_col2\" class=\"data row8 col2\" >-0.0268162</td> \n",
       "        <td id=\"T_e6fabb80_a9db_11ec_ba69_0242ac120002row8_col3\" class=\"data row8 col3\" >-0.0737521</td> \n",
       "        <td id=\"T_e6fabb80_a9db_11ec_ba69_0242ac120002row8_col4\" class=\"data row8 col4\" >-0.090543</td> \n",
       "        <td id=\"T_e6fabb80_a9db_11ec_ba69_0242ac120002row8_col5\" class=\"data row8 col5\" >-0.052904</td> \n",
       "        <td id=\"T_e6fabb80_a9db_11ec_ba69_0242ac120002row8_col6\" class=\"data row8 col6\" >0.0833533</td> \n",
       "        <td id=\"T_e6fabb80_a9db_11ec_ba69_0242ac120002row8_col7\" class=\"data row8 col7\" >-0.0840966</td> \n",
       "        <td id=\"T_e6fabb80_a9db_11ec_ba69_0242ac120002row8_col8\" class=\"data row8 col8\" >1</td> \n",
       "        <td id=\"T_e6fabb80_a9db_11ec_ba69_0242ac120002row8_col9\" class=\"data row8 col9\" >0.0378192</td> \n",
       "        <td id=\"T_e6fabb80_a9db_11ec_ba69_0242ac120002row8_col10\" class=\"data row8 col10\" >-0.0513944</td> \n",
       "        <td id=\"T_e6fabb80_a9db_11ec_ba69_0242ac120002row8_col11\" class=\"data row8 col11\" >-0.0161691</td> \n",
       "        <td id=\"T_e6fabb80_a9db_11ec_ba69_0242ac120002row8_col12\" class=\"data row8 col12\" >-0.136082</td> \n",
       "    </tr>    <tr> \n",
       "        <th id=\"T_e6fabb80_a9db_11ec_ba69_0242ac120002level0_row9\" class=\"row_heading level0 row9\" >Upgrade_vs_NextSong</th> \n",
       "        <td id=\"T_e6fabb80_a9db_11ec_ba69_0242ac120002row9_col0\" class=\"data row9 col0\" >0.243859</td> \n",
       "        <td id=\"T_e6fabb80_a9db_11ec_ba69_0242ac120002row9_col1\" class=\"data row9 col1\" >-0.0028199</td> \n",
       "        <td id=\"T_e6fabb80_a9db_11ec_ba69_0242ac120002row9_col2\" class=\"data row9 col2\" >0.0787684</td> \n",
       "        <td id=\"T_e6fabb80_a9db_11ec_ba69_0242ac120002row9_col3\" class=\"data row9 col3\" >-0.269993</td> \n",
       "        <td id=\"T_e6fabb80_a9db_11ec_ba69_0242ac120002row9_col4\" class=\"data row9 col4\" >0.305895</td> \n",
       "        <td id=\"T_e6fabb80_a9db_11ec_ba69_0242ac120002row9_col5\" class=\"data row9 col5\" >0.0446434</td> \n",
       "        <td id=\"T_e6fabb80_a9db_11ec_ba69_0242ac120002row9_col6\" class=\"data row9 col6\" >0.523289</td> \n",
       "        <td id=\"T_e6fabb80_a9db_11ec_ba69_0242ac120002row9_col7\" class=\"data row9 col7\" >0.0899833</td> \n",
       "        <td id=\"T_e6fabb80_a9db_11ec_ba69_0242ac120002row9_col8\" class=\"data row9 col8\" >0.0378192</td> \n",
       "        <td id=\"T_e6fabb80_a9db_11ec_ba69_0242ac120002row9_col9\" class=\"data row9 col9\" >1</td> \n",
       "        <td id=\"T_e6fabb80_a9db_11ec_ba69_0242ac120002row9_col10\" class=\"data row9 col10\" >-0.332245</td> \n",
       "        <td id=\"T_e6fabb80_a9db_11ec_ba69_0242ac120002row9_col11\" class=\"data row9 col11\" >-0.343536</td> \n",
       "        <td id=\"T_e6fabb80_a9db_11ec_ba69_0242ac120002row9_col12\" class=\"data row9 col12\" >-0.150923</td> \n",
       "    </tr>    <tr> \n",
       "        <th id=\"T_e6fabb80_a9db_11ec_ba69_0242ac120002level0_row10\" class=\"row_heading level0 row10\" >avg_amount_songs_played_per_session</th> \n",
       "        <td id=\"T_e6fabb80_a9db_11ec_ba69_0242ac120002row10_col0\" class=\"data row10 col0\" >-0.128236</td> \n",
       "        <td id=\"T_e6fabb80_a9db_11ec_ba69_0242ac120002row10_col1\" class=\"data row10 col1\" >-0.0397702</td> \n",
       "        <td id=\"T_e6fabb80_a9db_11ec_ba69_0242ac120002row10_col2\" class=\"data row10 col2\" >-0.0935128</td> \n",
       "        <td id=\"T_e6fabb80_a9db_11ec_ba69_0242ac120002row10_col3\" class=\"data row10 col3\" >0.477466</td> \n",
       "        <td id=\"T_e6fabb80_a9db_11ec_ba69_0242ac120002row10_col4\" class=\"data row10 col4\" >-0.569393</td> \n",
       "        <td id=\"T_e6fabb80_a9db_11ec_ba69_0242ac120002row10_col5\" class=\"data row10 col5\" >-0.00103971</td> \n",
       "        <td id=\"T_e6fabb80_a9db_11ec_ba69_0242ac120002row10_col6\" class=\"data row10 col6\" >-0.0953481</td> \n",
       "        <td id=\"T_e6fabb80_a9db_11ec_ba69_0242ac120002row10_col7\" class=\"data row10 col7\" >-0.119858</td> \n",
       "        <td id=\"T_e6fabb80_a9db_11ec_ba69_0242ac120002row10_col8\" class=\"data row10 col8\" >-0.0513944</td> \n",
       "        <td id=\"T_e6fabb80_a9db_11ec_ba69_0242ac120002row10_col9\" class=\"data row10 col9\" >-0.332245</td> \n",
       "        <td id=\"T_e6fabb80_a9db_11ec_ba69_0242ac120002row10_col10\" class=\"data row10 col10\" >1</td> \n",
       "        <td id=\"T_e6fabb80_a9db_11ec_ba69_0242ac120002row10_col11\" class=\"data row10 col11\" >0.903398</td> \n",
       "        <td id=\"T_e6fabb80_a9db_11ec_ba69_0242ac120002row10_col12\" class=\"data row10 col12\" >0.0578163</td> \n",
       "    </tr>    <tr> \n",
       "        <th id=\"T_e6fabb80_a9db_11ec_ba69_0242ac120002level0_row11\" class=\"row_heading level0 row11\" >hours_streaming_per_active_day</th> \n",
       "        <td id=\"T_e6fabb80_a9db_11ec_ba69_0242ac120002row11_col0\" class=\"data row11 col0\" >-0.14184</td> \n",
       "        <td id=\"T_e6fabb80_a9db_11ec_ba69_0242ac120002row11_col1\" class=\"data row11 col1\" >-0.0475576</td> \n",
       "        <td id=\"T_e6fabb80_a9db_11ec_ba69_0242ac120002row11_col2\" class=\"data row11 col2\" >-0.033616</td> \n",
       "        <td id=\"T_e6fabb80_a9db_11ec_ba69_0242ac120002row11_col3\" class=\"data row11 col3\" >0.49525</td> \n",
       "        <td id=\"T_e6fabb80_a9db_11ec_ba69_0242ac120002row11_col4\" class=\"data row11 col4\" >-0.608077</td> \n",
       "        <td id=\"T_e6fabb80_a9db_11ec_ba69_0242ac120002row11_col5\" class=\"data row11 col5\" >0.0230996</td> \n",
       "        <td id=\"T_e6fabb80_a9db_11ec_ba69_0242ac120002row11_col6\" class=\"data row11 col6\" >-0.114323</td> \n",
       "        <td id=\"T_e6fabb80_a9db_11ec_ba69_0242ac120002row11_col7\" class=\"data row11 col7\" >-0.104073</td> \n",
       "        <td id=\"T_e6fabb80_a9db_11ec_ba69_0242ac120002row11_col8\" class=\"data row11 col8\" >-0.0161691</td> \n",
       "        <td id=\"T_e6fabb80_a9db_11ec_ba69_0242ac120002row11_col9\" class=\"data row11 col9\" >-0.343536</td> \n",
       "        <td id=\"T_e6fabb80_a9db_11ec_ba69_0242ac120002row11_col10\" class=\"data row11 col10\" >0.903398</td> \n",
       "        <td id=\"T_e6fabb80_a9db_11ec_ba69_0242ac120002row11_col11\" class=\"data row11 col11\" >1</td> \n",
       "        <td id=\"T_e6fabb80_a9db_11ec_ba69_0242ac120002row11_col12\" class=\"data row11 col12\" >0.127598</td> \n",
       "    </tr>    <tr> \n",
       "        <th id=\"T_e6fabb80_a9db_11ec_ba69_0242ac120002level0_row12\" class=\"row_heading level0 row12\" >percentage_active_days</th> \n",
       "        <td id=\"T_e6fabb80_a9db_11ec_ba69_0242ac120002row12_col0\" class=\"data row12 col0\" >-0.130312</td> \n",
       "        <td id=\"T_e6fabb80_a9db_11ec_ba69_0242ac120002row12_col1\" class=\"data row12 col1\" >-0.0469157</td> \n",
       "        <td id=\"T_e6fabb80_a9db_11ec_ba69_0242ac120002row12_col2\" class=\"data row12 col2\" >0.00141933</td> \n",
       "        <td id=\"T_e6fabb80_a9db_11ec_ba69_0242ac120002row12_col3\" class=\"data row12 col3\" >0.165503</td> \n",
       "        <td id=\"T_e6fabb80_a9db_11ec_ba69_0242ac120002row12_col4\" class=\"data row12 col4\" >0.112291</td> \n",
       "        <td id=\"T_e6fabb80_a9db_11ec_ba69_0242ac120002row12_col5\" class=\"data row12 col5\" >-0.0118251</td> \n",
       "        <td id=\"T_e6fabb80_a9db_11ec_ba69_0242ac120002row12_col6\" class=\"data row12 col6\" >-0.0743234</td> \n",
       "        <td id=\"T_e6fabb80_a9db_11ec_ba69_0242ac120002row12_col7\" class=\"data row12 col7\" >-0.024663</td> \n",
       "        <td id=\"T_e6fabb80_a9db_11ec_ba69_0242ac120002row12_col8\" class=\"data row12 col8\" >-0.136082</td> \n",
       "        <td id=\"T_e6fabb80_a9db_11ec_ba69_0242ac120002row12_col9\" class=\"data row12 col9\" >-0.150923</td> \n",
       "        <td id=\"T_e6fabb80_a9db_11ec_ba69_0242ac120002row12_col10\" class=\"data row12 col10\" >0.0578163</td> \n",
       "        <td id=\"T_e6fabb80_a9db_11ec_ba69_0242ac120002row12_col11\" class=\"data row12 col11\" >0.127598</td> \n",
       "        <td id=\"T_e6fabb80_a9db_11ec_ba69_0242ac120002row12_col12\" class=\"data row12 col12\" >1</td> \n",
       "    </tr></tbody> \n",
       "</table> "
      ],
      "text/plain": [
       "<pandas.io.formats.style.Styler at 0x7fb2398aa518>"
      ]
     },
     "execution_count": 5,
     "metadata": {},
     "output_type": "execute_result"
    }
   ],
   "source": [
    "data_pd = data.toPandas()\n",
    "corr = data_pd.corr()\n",
    "corr.style.background_gradient(cmap='coolwarm')"
   ]
  },
  {
   "cell_type": "code",
   "execution_count": 6,
   "metadata": {},
   "outputs": [],
   "source": [
    "def drop_correlated_column_from_feature_data(data, name_correlated_col = 'avg_amount_songs_played_per_session'):\n",
    "    '''\n",
    "    This function drops the correlated column (here: 'avg_amount_songs_played_per_session') from the dataframe\n",
    "    \n",
    "    args:\n",
    "        data (pyspark dataframe): dataframe containing the features with one column per feature for every userId\n",
    "        \n",
    "    returns:\n",
    "        data (pyspark dataframe): dataframe without the dropped column\n",
    "    '''\n",
    "    \n",
    "    data = data.drop(name_correlated_col)\n",
    "    \n",
    "    return data"
   ]
  },
  {
   "cell_type": "code",
   "execution_count": 7,
   "metadata": {},
   "outputs": [],
   "source": [
    "data = drop_correlated_column_from_feature_data(data)"
   ]
  },
  {
   "cell_type": "markdown",
   "metadata": {},
   "source": [
    "As seen from above we have some columns that have numeric and some that have categorical values. Before using the categorical values in a ML model we need to use a StringIndexer Function. The String Indexer encodes a string column of labels to a column of label indices [[1](https://george-jen.gitbook.io/data-science-and-apache-spark/stringindexer)]. The numerical columns we need to assemble with a Vector Assembler and then scale. Both the assembled categorical column values and the numerical column values then need to be assembled to one vector.\n",
    "This is done in the following:"
   ]
  },
  {
   "cell_type": "code",
   "execution_count": 8,
   "metadata": {},
   "outputs": [],
   "source": [
    "#Helper functions to find the names of the numeric and categorical values so they don't have to be written by hand\n",
    "def get_list_of_numerical_columns(data):\n",
    "    '''\n",
    "    This function creates an array with column names of the numeric columns (that are Double Type)\n",
    "    \n",
    "    args:\n",
    "        data (pyspark dataframe): dataframe containing the features with one column per feature for every userId\n",
    "        \n",
    "    returns:\n",
    "        num_columns (array): array containing the names of the numerical columns\n",
    "    '''\n",
    "    \n",
    "    num_columns = [f.name for f in data.schema.fields if isinstance(f.dataType, (DoubleType))]\n",
    "    \n",
    "    return num_columns\n",
    "\n",
    "def get_list_of_categorical_columns(data):\n",
    "    '''\n",
    "    This function creates an array with column names of the categorical columns (that are String Type) - the userId is excluded\n",
    "    \n",
    "    args:\n",
    "        data (pyspark dataframe): dataframe containing the features with one column per feature for every userId\n",
    "        \n",
    "    returns:\n",
    "        cat_columns (array): array containing the names of the categorical columns\n",
    "    '''\n",
    "    \n",
    "    cat_columns = [f.name for f in data.schema.fields if isinstance(f.dataType, (StringType))]\n",
    "    cat_columns.remove('userId')\n",
    "    \n",
    "    return cat_columns"
   ]
  },
  {
   "cell_type": "code",
   "execution_count": 9,
   "metadata": {},
   "outputs": [
    {
     "data": {
      "text/plain": [
       "['browser', 'city', 'gender', 'level', 'platform', 'state']"
      ]
     },
     "execution_count": 9,
     "metadata": {},
     "output_type": "execute_result"
    }
   ],
   "source": [
    "get_list_of_categorical_columns(data)"
   ]
  },
  {
   "cell_type": "code",
   "execution_count": 10,
   "metadata": {},
   "outputs": [],
   "source": [
    "def create_feature_preprocessing_pipeline(data):\n",
    "    '''\n",
    "    Function to create a preprocessing pipeline to process the dataframe and make a features column\n",
    "    Categorical Variables are processed with a String Indexer and numerical columns are scaled by \n",
    "    a Standard Scaler\n",
    "    \n",
    "    args:\n",
    "        data (pyspark dataframe): dataframe containing the features one column per feature for every userId\n",
    "        \n",
    "    returns:\n",
    "        feature_preprocessing_pipeline (pyspark pipeline): a pipeline that processes numerical and categorical\n",
    "        features into a featurevector-column\n",
    "        \n",
    "    '''\n",
    "    num_columns = get_list_of_numerical_columns(data)\n",
    "    \n",
    "    #categorical columns are: ['browser', 'city', 'gender', 'level', 'platform', 'state']\n",
    "    #for features/predicting we will only use gender and level\n",
    "    \n",
    "    # index categorical columns  \n",
    "    indexer_gender = StringIndexer(inputCol='gender', outputCol='gender_indexed')\n",
    "    indexer_level = StringIndexer(inputCol='level', outputCol='level_indexed')  \n",
    "    \n",
    "    #asseble the categorical columns\n",
    "    assembler_categorical = VectorAssembler(inputCols = ['gender_indexed', 'level_indexed'],\n",
    "                                        outputCol = 'vectorized_categorical_columns')\n",
    "\n",
    "    # assemble and scale numerical columns\n",
    "    assembler_numerical = VectorAssembler(inputCols = num_columns, outputCol = 'vectorized_numerical_columns')\n",
    "    scaler_standard = StandardScaler(inputCol = 'vectorized_numerical_columns', outputCol = 'scaled_numerical_columns', withStd = True, withMean = True)\n",
    "\n",
    "    # assemble all columns together into the features column, label will be churned/not churned\n",
    "    assembler_all = VectorAssembler(inputCols = ['vectorized_categorical_columns'] + ['scaled_numerical_columns'], outputCol = \"features\")\n",
    "\n",
    "    feature_preprocessing_pipeline = Pipeline(stages=[indexer_gender, indexer_level, assembler_categorical, \n",
    "                                           assembler_numerical, scaler_standard, assembler_all]) \n",
    "    \n",
    "    return feature_preprocessing_pipeline"
   ]
  },
  {
   "cell_type": "code",
   "execution_count": 11,
   "metadata": {},
   "outputs": [],
   "source": [
    "feature_preprocessing_pipeline = create_feature_preprocessing_pipeline(data)\n",
    "data_processed = feature_preprocessing_pipeline.fit(data).transform(data)"
   ]
  },
  {
   "cell_type": "code",
   "execution_count": 12,
   "metadata": {},
   "outputs": [],
   "source": [
    "def create_label_features_dataframe(data_processed):\n",
    "    '''\n",
    "    Function to create a label-feature dataframe to train the models on\n",
    "    \n",
    "    args:\n",
    "        data_processed (pyspark dataframe): dataframe from function:\n",
    "                feature_preprocessing_pipeline = create_feature_preprocessing_pipeline(data)\n",
    "                data_processed = feature_preprocessing_pipeline.fit(data).transform(data)\n",
    "        \n",
    "    returns:\n",
    "        data_model (pyspark dataframe): dataframe to train the models on with 'feature' and 'label' column\n",
    "    '''\n",
    "        \n",
    "    \n",
    "    data_processed = data_processed.withColumnRenamed('Churned_User','label')\n",
    "    data_model = data_processed.select('label', 'features') \n",
    "    \n",
    "    data_model = data_model.withColumn('label',F.col('label').cast(IntegerType()))\n",
    "    \n",
    "    return data_model"
   ]
  },
  {
   "cell_type": "code",
   "execution_count": 13,
   "metadata": {},
   "outputs": [],
   "source": [
    "data_model = create_label_features_dataframe(data_processed)"
   ]
  },
  {
   "cell_type": "code",
   "execution_count": 14,
   "metadata": {},
   "outputs": [
    {
     "name": "stdout",
     "output_type": "stream",
     "text": [
      "root\n",
      " |-- label: integer (nullable = true)\n",
      " |-- features: vector (nullable = true)\n",
      "\n"
     ]
    }
   ],
   "source": [
    "data_model.printSchema()"
   ]
  },
  {
   "cell_type": "markdown",
   "metadata": {},
   "source": [
    "As we have seen in the Dataset Analysis we have an imbalance in the dataset of churned users vs stayed users:\n",
    "\n",
    "Of total 225 users, 173 users stayed with the streaming service during the observed time and 52 users eventually churned (churn rate: 23.11% )\n",
    "\n",
    "Therefore random sampling could lead to our model not having not many churned-samples to be trained on. Therefore we will use a stratified sampling strategy in the following. In a classification setting, Stratified sampling is often chosen to ensure that the train and test sets have approximately the same percentage of samples of each target class as the complete set [[2](https://stats.stackexchange.com/questions/250273/benefits-of-stratified-vs-random-sampling-for-generating-training-data-in-classi/250742#250742)]. "
   ]
  },
  {
   "cell_type": "code",
   "execution_count": 15,
   "metadata": {},
   "outputs": [],
   "source": [
    "def create_train_test_split_stratified_sampling(data_model, percentage_training_data):\n",
    "    ''' \n",
    "    Function to splits unbalanced data into train and test data using stratified sampling to have similar \n",
    "    churn/ not churn rations in triaining and test data.\n",
    "    \n",
    "    args:\n",
    "        data_processed (pyspark dataframe): dataframe containing processed data for ML models\n",
    "        percentage_training_data (float): percentage of training data from complete data set\n",
    "        \n",
    "    returns:\n",
    "        data_training (pyspark dataframe): dataframe containing training data\n",
    "        data_test (pyspark dataframe): dataframe containing test data\n",
    "    '''\n",
    "    \n",
    "    # Taking the percentage_training_data of both 0's and 1's of Churned_User into training set\n",
    "    data_training = data_model.sampleBy('label', fractions={1: percentage_training_data, 0: percentage_training_data}, seed=42)\n",
    "\n",
    "    # Subtracting 'train' from original 'data' to get test set \n",
    "    data_test = data_model.subtract(data_training)\n",
    "    \n",
    "    print('The training data contains {} observations, the test data contains {} observations'.format(\n",
    "        data_training.count(), data_test.count()))\n",
    "    \n",
    "    print('The training data has the following distribution in labels: ')\n",
    "    data_training.groupBy('label').count().show()\n",
    "    \n",
    "    print('The testing data has the following distribution in labels: ')\n",
    "    data_test.groupBy('label').count().show()\n",
    "    \n",
    "    print('The total data has the following distribution in labels: ')\n",
    "    data_model.groupBy('label').count().show()\n",
    "    \n",
    "    return data_training, data_test"
   ]
  },
  {
   "cell_type": "code",
   "execution_count": 16,
   "metadata": {},
   "outputs": [
    {
     "name": "stdout",
     "output_type": "stream",
     "text": [
      "The training data contains 193 observations, the test data contains 32 observations\n",
      "The training data has the following distribution in labels: \n",
      "+-----+-----+\n",
      "|label|count|\n",
      "+-----+-----+\n",
      "|    1|   44|\n",
      "|    0|  149|\n",
      "+-----+-----+\n",
      "\n",
      "The testing data has the following distribution in labels: \n",
      "+-----+-----+\n",
      "|label|count|\n",
      "+-----+-----+\n",
      "|    1|    8|\n",
      "|    0|   24|\n",
      "+-----+-----+\n",
      "\n",
      "The total data has the following distribution in labels: \n",
      "+-----+-----+\n",
      "|label|count|\n",
      "+-----+-----+\n",
      "|    1|   52|\n",
      "|    0|  173|\n",
      "+-----+-----+\n",
      "\n"
     ]
    }
   ],
   "source": [
    "data_train, data_test = create_train_test_split_stratified_sampling(data_model, 0.8)"
   ]
  },
  {
   "cell_type": "markdown",
   "metadata": {},
   "source": [
    "### Fit and evaluate Models\n",
    "\n",
    "The evaluation of the models will be through the F1 score and the ROC-AUC. The ROC-AUC might be a good metric for an imbalanced binary classification.\n",
    "\n",
    "#### F-Measure / F1 score\n",
    "Precision and recall can be combined into a single score that seeks to balance both concerns, called the F-score or the F-measure. The F-Measure is a popular metric for imbalanced classification. (https://machinelearningmastery.com/tour-of-evaluation-metrics-for-imbalanced-classification/ )\n",
    "\n",
    "#### AUC-ROC\n",
    "The Receiver Operator Characteristic (ROC) is a probability curve that plots the TPR(True Positive Rate) against the FPR(False Positive Rate) at various threshold values and separates the ‘signal’ from the ‘noise’.\n",
    "\n",
    "The greater the AUC, the better is the performance of the model at different threshold points between positive and negative classes. This simply means that When AUC is equal to 1, the classifier is able to perfectly distinguish between all Positive and Negative class points. When AUC is equal to 0, the classifier would be predicting all Negatives as Positives and vice versa. When AUC is 0.5, the classifier is not able to distinguish between the Positive and Negative classes. (https://www.analyticsvidhya.com/blog/2021/07/metrics-to-evaluate-your-classification-model-to-take-the-right-decisions/ )"
   ]
  },
  {
   "cell_type": "code",
   "execution_count": 17,
   "metadata": {},
   "outputs": [],
   "source": [
    "def evaluate_model_F1_and_AUC_ROC_score(results):\n",
    "    '''\n",
    "    Function to evaluate prediction of model using F1 and AUC ROC score\n",
    "    \n",
    "    args:\n",
    "        results (pyspark dataframe): Results from predicting classes with trained model on test data\n",
    "        \n",
    "    returns:\n",
    "        prints out F1-Score for given results\n",
    "    '''\n",
    "\n",
    "    f1_evaluator = MulticlassClassificationEvaluator(metricName='f1')\n",
    "    f1_score = f1_evaluator.evaluate(results.select(F.col('label'), F.col('prediction')))\n",
    "\n",
    "    print('F1-score = {:.4%}'.format(f1_score)) \n",
    "    \n",
    "    auc_roc_evaluator = BinaryClassificationEvaluator()\n",
    "    auc_roc_score = auc_roc_evaluator.evaluate(results, {auc_roc_evaluator.metricName: 'areaUnderROC'})\n",
    "    \n",
    "    print('Area under ROC = {:.4%}'.format(auc_roc_score))"
   ]
  },
  {
   "cell_type": "code",
   "execution_count": 18,
   "metadata": {},
   "outputs": [],
   "source": [
    "def train_test_model(model, data_train, data_test):\n",
    "    ''' \n",
    "    Function to:\n",
    "            - fit the model on data_train\n",
    "            - predict on data_test\n",
    "            - print the time needed for the model to fit and predict\n",
    "            - print the evaluation scores (F1 and AUC-ROC)\n",
    "    '''\n",
    "    start = time.time()\n",
    "\n",
    "    clf = model.fit(data_train)\n",
    "    results = clf.transform(data_test)\n",
    "\n",
    "    end = time.time()\n",
    "    print('Time spent for training and predicting: {}'.format(round(end-start,2)))\n",
    "\n",
    "    evaluate_model_F1_and_AUC_ROC_score(results)"
   ]
  },
  {
   "cell_type": "markdown",
   "metadata": {},
   "source": [
    "According to Apache Spark Documentation there are multiple ML models possible for a classification prediction (https://spark.apache.org/docs/latest/ml-classification-regression.html).\n",
    "\n",
    "We will work with the following models:\n",
    "\n",
    "- Logistic Regression\n",
    "- Decision tree classifier\n",
    "- Random forest classifier\n",
    "- Gradient boosted tree classifier\n",
    "- Linear Support Vector Machine"
   ]
  },
  {
   "cell_type": "code",
   "execution_count": 19,
   "metadata": {},
   "outputs": [
    {
     "name": "stdout",
     "output_type": "stream",
     "text": [
      "Time spent for training and predicting: 5.68\n",
      "F1-score = 74.1852%\n",
      "Area under ROC = 86.9792%\n"
     ]
    }
   ],
   "source": [
    "lr = LogisticRegression()\n",
    "train_test_model(lr, data_train, data_test)"
   ]
  },
  {
   "cell_type": "code",
   "execution_count": 20,
   "metadata": {},
   "outputs": [
    {
     "name": "stdout",
     "output_type": "stream",
     "text": [
      "Time spent for training and predicting: 2.32\n",
      "F1-score = 74.1852%\n",
      "Area under ROC = 54.4271%\n"
     ]
    }
   ],
   "source": [
    "dt = DecisionTreeClassifier()\n",
    "train_test_model(dt, data_train, data_test)"
   ]
  },
  {
   "cell_type": "code",
   "execution_count": 21,
   "metadata": {},
   "outputs": [
    {
     "name": "stdout",
     "output_type": "stream",
     "text": [
      "Time spent for training and predicting: 2.37\n",
      "F1-score = 74.1852%\n",
      "Area under ROC = 64.5833%\n"
     ]
    }
   ],
   "source": [
    "rf = RandomForestClassifier()\n",
    "train_test_model(rf, data_train, data_test)"
   ]
  },
  {
   "cell_type": "code",
   "execution_count": 22,
   "metadata": {},
   "outputs": [
    {
     "name": "stdout",
     "output_type": "stream",
     "text": [
      "Time spent for training and predicting: 14.01\n",
      "F1-score = 83.0317%\n",
      "Area under ROC = 84.8958%\n"
     ]
    }
   ],
   "source": [
    "gbt = GBTClassifier()\n",
    "train_test_model(gbt, data_train, data_test)"
   ]
  },
  {
   "cell_type": "code",
   "execution_count": 23,
   "metadata": {},
   "outputs": [
    {
     "name": "stdout",
     "output_type": "stream",
     "text": [
      "Time spent for training and predicting: 14.88\n",
      "F1-score = 64.2857%\n",
      "Area under ROC = 86.4583%\n"
     ]
    }
   ],
   "source": [
    "lsvc = LinearSVC()\n",
    "train_test_model(lsvc, data_train, data_test)"
   ]
  },
  {
   "cell_type": "markdown",
   "metadata": {},
   "source": [
    "### Parameter tuning"
   ]
  },
  {
   "cell_type": "code",
   "execution_count": 24,
   "metadata": {},
   "outputs": [],
   "source": [
    "def evaluation_best_model_F1(model, data_train, data_test, paramGrid):\n",
    "    '''\n",
    "    Function to find the model with the best parameters based on the Area Under ROC value\n",
    "    '''\n",
    "    \n",
    "    cv = CrossValidator(estimator = model,\n",
    "                          estimatorParamMaps = paramGrid,\n",
    "                          evaluator = MulticlassClassificationEvaluator(metricName='f1'),\n",
    "                          numFolds = 5)\n",
    "    \n",
    "    # Run cross-validation, and choose the best set of parameters.\n",
    "    cvModel = cv.fit(data_train)\n",
    "    \n",
    "    #get the results of train data from best model\n",
    "    results = cvModel.transform(data_test)\n",
    "    evaluate_model_F1_and_AUC_ROC_score(results)\n",
    "\n",
    "    return cvModel"
   ]
  },
  {
   "cell_type": "code",
   "execution_count": 25,
   "metadata": {},
   "outputs": [],
   "source": [
    "def evaluation_best_model_AUC_ROC(model, data_train, data_test, paramGrid):\n",
    "    '''\n",
    "    Function to find the model with the best parameters based on the Area Under ROC value\n",
    "    '''\n",
    "    \n",
    "    cv = CrossValidator(estimator = model,\n",
    "                          estimatorParamMaps = paramGrid,\n",
    "                          evaluator = BinaryClassificationEvaluator(metricName='areaUnderROC'),\n",
    "                          numFolds = 5)\n",
    "    \n",
    "    # Run cross-validation, and choose the best set of parameters.\n",
    "    cvModel = cv.fit(data_train)\n",
    "    \n",
    "    #get the results of train data from best model\n",
    "    results = cvModel.transform(data_test)\n",
    "    evaluate_model_F1_and_AUC_ROC_score(results)\n",
    "\n",
    "    return cvModel"
   ]
  },
  {
   "cell_type": "markdown",
   "metadata": {},
   "source": [
    "#### Linear Regression"
   ]
  },
  {
   "cell_type": "code",
   "execution_count": 26,
   "metadata": {},
   "outputs": [],
   "source": [
    "paramGrid_lr = ParamGridBuilder() \\\n",
    "        .addGrid(lr.regParam, [0.0, 0.01, 0.5]) \\\n",
    "        .addGrid(lr.elasticNetParam, [0.0, 0.5]) \\\n",
    "        .addGrid(lr.maxIter, [1, 5, 10, 20, 100]) \\\n",
    "        .build() "
   ]
  },
  {
   "cell_type": "code",
   "execution_count": 27,
   "metadata": {},
   "outputs": [
    {
     "name": "stdout",
     "output_type": "stream",
     "text": [
      "F1-score = 74.1852%\n",
      "Area under ROC = 86.9792%\n"
     ]
    }
   ],
   "source": [
    "bestmodel_lr_F1 = evaluation_best_model_F1(lr, data_train, data_test, paramGrid_lr)"
   ]
  },
  {
   "cell_type": "code",
   "execution_count": 28,
   "metadata": {},
   "outputs": [
    {
     "data": {
      "text/plain": [
       "{Param(parent='LogisticRegression_bfa1bbbaa6ba', name='aggregationDepth', doc='suggested depth for treeAggregate (>= 2)'): 2,\n",
       " Param(parent='LogisticRegression_bfa1bbbaa6ba', name='elasticNetParam', doc='the ElasticNet mixing parameter, in range [0, 1]. For alpha = 0, the penalty is an L2 penalty. For alpha = 1, it is an L1 penalty'): 0.0,\n",
       " Param(parent='LogisticRegression_bfa1bbbaa6ba', name='family', doc='The name of family which is a description of the label distribution to be used in the model. Supported options: auto, binomial, multinomial.'): 'auto',\n",
       " Param(parent='LogisticRegression_bfa1bbbaa6ba', name='featuresCol', doc='features column name'): 'features',\n",
       " Param(parent='LogisticRegression_bfa1bbbaa6ba', name='fitIntercept', doc='whether to fit an intercept term'): True,\n",
       " Param(parent='LogisticRegression_bfa1bbbaa6ba', name='labelCol', doc='label column name'): 'label',\n",
       " Param(parent='LogisticRegression_bfa1bbbaa6ba', name='maxIter', doc='maximum number of iterations (>= 0)'): 20,\n",
       " Param(parent='LogisticRegression_bfa1bbbaa6ba', name='predictionCol', doc='prediction column name'): 'prediction',\n",
       " Param(parent='LogisticRegression_bfa1bbbaa6ba', name='probabilityCol', doc='Column name for predicted class conditional probabilities. Note: Not all models output well-calibrated probability estimates! These probabilities should be treated as confidences, not precise probabilities'): 'probability',\n",
       " Param(parent='LogisticRegression_bfa1bbbaa6ba', name='rawPredictionCol', doc='raw prediction (a.k.a. confidence) column name'): 'rawPrediction',\n",
       " Param(parent='LogisticRegression_bfa1bbbaa6ba', name='regParam', doc='regularization parameter (>= 0)'): 0.0,\n",
       " Param(parent='LogisticRegression_bfa1bbbaa6ba', name='standardization', doc='whether to standardize the training features before fitting the model'): True,\n",
       " Param(parent='LogisticRegression_bfa1bbbaa6ba', name='threshold', doc='threshold in binary classification prediction, in range [0, 1]'): 0.5,\n",
       " Param(parent='LogisticRegression_bfa1bbbaa6ba', name='tol', doc='the convergence tolerance for iterative algorithms (>= 0)'): 1e-06}"
      ]
     },
     "execution_count": 28,
     "metadata": {},
     "output_type": "execute_result"
    }
   ],
   "source": [
    "bestmodel_lr_F1.bestModel.extractParamMap()\n",
    "#elasticNetParam: 0.0\n",
    "#maxIter: 1\n",
    "#regParam: 0.0"
   ]
  },
  {
   "cell_type": "code",
   "execution_count": 29,
   "metadata": {},
   "outputs": [
    {
     "name": "stdout",
     "output_type": "stream",
     "text": [
      "F1-score = 74.1852%\n",
      "Area under ROC = 86.9792%\n"
     ]
    }
   ],
   "source": [
    "bestmodel_lr_AUC_ROC = evaluation_best_model_AUC_ROC(lr, data_train, data_test, paramGrid_lr)"
   ]
  },
  {
   "cell_type": "code",
   "execution_count": 30,
   "metadata": {},
   "outputs": [
    {
     "data": {
      "text/plain": [
       "{Param(parent='LogisticRegression_bfa1bbbaa6ba', name='aggregationDepth', doc='suggested depth for treeAggregate (>= 2)'): 2,\n",
       " Param(parent='LogisticRegression_bfa1bbbaa6ba', name='elasticNetParam', doc='the ElasticNet mixing parameter, in range [0, 1]. For alpha = 0, the penalty is an L2 penalty. For alpha = 1, it is an L1 penalty'): 0.0,\n",
       " Param(parent='LogisticRegression_bfa1bbbaa6ba', name='family', doc='The name of family which is a description of the label distribution to be used in the model. Supported options: auto, binomial, multinomial.'): 'auto',\n",
       " Param(parent='LogisticRegression_bfa1bbbaa6ba', name='featuresCol', doc='features column name'): 'features',\n",
       " Param(parent='LogisticRegression_bfa1bbbaa6ba', name='fitIntercept', doc='whether to fit an intercept term'): True,\n",
       " Param(parent='LogisticRegression_bfa1bbbaa6ba', name='labelCol', doc='label column name'): 'label',\n",
       " Param(parent='LogisticRegression_bfa1bbbaa6ba', name='maxIter', doc='maximum number of iterations (>= 0)'): 10,\n",
       " Param(parent='LogisticRegression_bfa1bbbaa6ba', name='predictionCol', doc='prediction column name'): 'prediction',\n",
       " Param(parent='LogisticRegression_bfa1bbbaa6ba', name='probabilityCol', doc='Column name for predicted class conditional probabilities. Note: Not all models output well-calibrated probability estimates! These probabilities should be treated as confidences, not precise probabilities'): 'probability',\n",
       " Param(parent='LogisticRegression_bfa1bbbaa6ba', name='rawPredictionCol', doc='raw prediction (a.k.a. confidence) column name'): 'rawPrediction',\n",
       " Param(parent='LogisticRegression_bfa1bbbaa6ba', name='regParam', doc='regularization parameter (>= 0)'): 0.0,\n",
       " Param(parent='LogisticRegression_bfa1bbbaa6ba', name='standardization', doc='whether to standardize the training features before fitting the model'): True,\n",
       " Param(parent='LogisticRegression_bfa1bbbaa6ba', name='threshold', doc='threshold in binary classification prediction, in range [0, 1]'): 0.5,\n",
       " Param(parent='LogisticRegression_bfa1bbbaa6ba', name='tol', doc='the convergence tolerance for iterative algorithms (>= 0)'): 1e-06}"
      ]
     },
     "execution_count": 30,
     "metadata": {},
     "output_type": "execute_result"
    }
   ],
   "source": [
    "bestmodel_lr_AUC_ROC.bestModel.extractParamMap()\n",
    "#elasticNetParam: 0.5\n",
    "#maxIter: 20\n",
    "#regParam: 0.01"
   ]
  },
  {
   "cell_type": "code",
   "execution_count": 31,
   "metadata": {},
   "outputs": [
    {
     "data": {
      "text/plain": [
       "LogisticRegressionModel: uid = LogisticRegression_bfa1bbbaa6ba, numClasses = 2, numFeatures = 13"
      ]
     },
     "execution_count": 31,
     "metadata": {},
     "output_type": "execute_result"
    }
   ],
   "source": [
    "bestmodel_lr_AUC_ROC.bestModel"
   ]
  },
  {
   "cell_type": "code",
   "execution_count": 49,
   "metadata": {},
   "outputs": [],
   "source": [
    "#Out of the two best models (where one is evaluated for F1 and one for AUC-ROC), we choose the AUC_ROC model\n",
    "#with the following scores:\n",
    "\n",
    "#F1-score = 74.1852%\n",
    "#Area under ROC = 86.9792%\n",
    "\n",
    "#save best model\n",
    "#bestmodel_lr_AUC_ROC.bestModel.save('best_models/best_model_Linear_Regression.pkl')"
   ]
  },
  {
   "cell_type": "markdown",
   "metadata": {},
   "source": [
    "#### Decision Tree Classifier"
   ]
  },
  {
   "cell_type": "code",
   "execution_count": 33,
   "metadata": {},
   "outputs": [],
   "source": [
    "paramGrid_dt = ParamGridBuilder() \\\n",
    "        .addGrid(dt.cacheNodeIds, [False, True]) \\\n",
    "        .addGrid(dt.impurity, ['gini', 'entropy']) \\\n",
    "        .addGrid(dt.maxDepth, [1, 5, 10]) \\\n",
    "        .build() "
   ]
  },
  {
   "cell_type": "code",
   "execution_count": 34,
   "metadata": {},
   "outputs": [
    {
     "name": "stdout",
     "output_type": "stream",
     "text": [
      "F1-score = 77.6190%\n",
      "Area under ROC = 50.0000%\n"
     ]
    }
   ],
   "source": [
    "bestmodel_dt_F1 = evaluation_best_model_F1(dt, data_train, data_test, paramGrid_dt)"
   ]
  },
  {
   "cell_type": "code",
   "execution_count": 35,
   "metadata": {},
   "outputs": [
    {
     "name": "stdout",
     "output_type": "stream",
     "text": [
      "F1-score = 81.2500%\n",
      "Area under ROC = 76.3021%\n"
     ]
    }
   ],
   "source": [
    "bestmodel_dt_AUC_ROC = evaluation_best_model_AUC_ROC(dt, data_train, data_test, paramGrid_dt)"
   ]
  },
  {
   "cell_type": "code",
   "execution_count": 50,
   "metadata": {},
   "outputs": [],
   "source": [
    "#Out of the two best models (where one is evaluated for F1 and one for AUC-ROC), we choose the AUC_ROC model\n",
    "#with the following scores:\n",
    "\n",
    "#F1-score = 81.2500%\n",
    "#Area under ROC = 76.3021%\n",
    "\n",
    "\n",
    "#save best model\n",
    "#bestmodel_dt_AUC_ROC.bestModel.save('best_models/best_model_Decision_Tree_Classifier.pkl')"
   ]
  },
  {
   "cell_type": "markdown",
   "metadata": {},
   "source": [
    "#### Random Forest Classifier"
   ]
  },
  {
   "cell_type": "code",
   "execution_count": 37,
   "metadata": {},
   "outputs": [],
   "source": [
    "paramGrid_rf = ParamGridBuilder() \\\n",
    "        .addGrid(rf.cacheNodeIds, [False, True]) \\\n",
    "        .addGrid(rf.impurity, ['gini', 'entropy']) \\\n",
    "        .addGrid(rf.maxDepth, [5, 10, 20]) \\\n",
    "        .addGrid(rf.numTrees, [10, 20, 40]) \\\n",
    "        .build() "
   ]
  },
  {
   "cell_type": "code",
   "execution_count": 38,
   "metadata": {},
   "outputs": [
    {
     "name": "stdout",
     "output_type": "stream",
     "text": [
      "F1-score = 80.2857%\n",
      "Area under ROC = 80.9896%\n"
     ]
    }
   ],
   "source": [
    "bestmodel_rf_F1 = evaluation_best_model_F1(rf, data_train, data_test, paramGrid_rf)"
   ]
  },
  {
   "cell_type": "code",
   "execution_count": 39,
   "metadata": {},
   "outputs": [
    {
     "name": "stdout",
     "output_type": "stream",
     "text": [
      "F1-score = 76.6667%\n",
      "Area under ROC = 76.5625%\n"
     ]
    }
   ],
   "source": [
    "bestmodel_rf_AUC_ROC = evaluation_best_model_AUC_ROC(rf, data_train, data_test, paramGrid_rf)"
   ]
  },
  {
   "cell_type": "code",
   "execution_count": 51,
   "metadata": {},
   "outputs": [],
   "source": [
    "#Out of the two best models (where one is evaluated for F1 and one for AUC-ROC), we choose the F1 model\n",
    "#with the following scores:\n",
    "\n",
    "#F1-score = 80.2857%\n",
    "#Area under ROC = 80.9896%\n",
    "\n",
    "\n",
    "#save best model\n",
    "#bestmodel_rf_F1.bestModel.save('best_models/best_model_Random_Forest_Classifier.pkl')"
   ]
  },
  {
   "cell_type": "markdown",
   "metadata": {},
   "source": [
    "#### Gradient boosted tree classifier"
   ]
  },
  {
   "cell_type": "code",
   "execution_count": 41,
   "metadata": {},
   "outputs": [],
   "source": [
    "paramGrid_gbt = ParamGridBuilder() \\\n",
    "        .addGrid(gbt.maxIter, [10, 20]) \\\n",
    "        .addGrid(gbt.maxDepth, [5, 10]) \\\n",
    "        .addGrid(gbt.stepSize, [0.1, 0.5]) \\\n",
    "        .build()"
   ]
  },
  {
   "cell_type": "code",
   "execution_count": 42,
   "metadata": {},
   "outputs": [
    {
     "name": "stdout",
     "output_type": "stream",
     "text": [
      "F1-score = 83.0317%\n",
      "Area under ROC = 84.8958%\n"
     ]
    }
   ],
   "source": [
    "bestmodel_gbt_F1 = evaluation_best_model_F1(gbt, data_train, data_test, paramGrid_gbt)"
   ]
  },
  {
   "cell_type": "code",
   "execution_count": 43,
   "metadata": {},
   "outputs": [
    {
     "name": "stdout",
     "output_type": "stream",
     "text": [
      "F1-score = 72.4030%\n",
      "Area under ROC = 69.5312%\n"
     ]
    }
   ],
   "source": [
    "bestmodel_gbt_AUC_ROC = evaluation_best_model_AUC_ROC(gbt, data_train, data_test, paramGrid_gbt)"
   ]
  },
  {
   "cell_type": "code",
   "execution_count": 52,
   "metadata": {},
   "outputs": [],
   "source": [
    "#Out of the two best models (where one is evaluated for F1 and one for AUC-ROC), we choose the F1 model\n",
    "#with the following scores:\n",
    "\n",
    "#F1-score = 83.0317%\n",
    "#Area under ROC = 84.8958%\n",
    "\n",
    "\n",
    "#save best model\n",
    "#bestmodel_gbt_F1.save('best_models/best_model_Gradient_boosted_tree_classifier.pkl')"
   ]
  },
  {
   "cell_type": "markdown",
   "metadata": {},
   "source": [
    "#### Linear Support Vector Machine"
   ]
  },
  {
   "cell_type": "code",
   "execution_count": 45,
   "metadata": {},
   "outputs": [],
   "source": [
    "paramGrid_lsvc = ParamGridBuilder() \\\n",
    "        .addGrid(lsvc.aggregationDepth, [2, 3]) \\\n",
    "        .addGrid(lsvc.standardization, [True, False]) \\\n",
    "        .addGrid(lsvc.maxIter, [10, 20, 100]) \\\n",
    "        .build()"
   ]
  },
  {
   "cell_type": "code",
   "execution_count": 46,
   "metadata": {},
   "outputs": [
    {
     "name": "stdout",
     "output_type": "stream",
     "text": [
      "F1-score = 76.6667%\n",
      "Area under ROC = 80.2083%\n"
     ]
    }
   ],
   "source": [
    "bestmodel_lsvc_F1 = evaluation_best_model_F1(lsvc, data_train, data_test, paramGrid_lsvc)"
   ]
  },
  {
   "cell_type": "code",
   "execution_count": 47,
   "metadata": {
    "scrolled": true
   },
   "outputs": [
    {
     "name": "stdout",
     "output_type": "stream",
     "text": [
      "F1-score = 76.6667%\n",
      "Area under ROC = 80.2083%\n"
     ]
    }
   ],
   "source": [
    "bestmodel_lsvc_AUC_ROC = evaluation_best_model_AUC_ROC(lsvc, data_train, data_test, paramGrid_lsvc)"
   ]
  },
  {
   "cell_type": "code",
   "execution_count": 53,
   "metadata": {},
   "outputs": [],
   "source": [
    "#Both models give the same metrics, therefore we could safe either with the following evaluation metrics:\n",
    "\n",
    "#F1-score = 76.6667%\n",
    "#Area under ROC = 80.2083%\n",
    "\n",
    "\n",
    "#save best model\n",
    "#bestmodel_lsvc_AUC_ROC.bestModel.save('best_models/best_model_Linear_Vector_Machine.pkl')"
   ]
  }
 ],
 "metadata": {
  "kernelspec": {
   "display_name": "Python 3",
   "language": "python",
   "name": "python3"
  },
  "language_info": {
   "codemirror_mode": {
    "name": "ipython",
    "version": 3
   },
   "file_extension": ".py",
   "mimetype": "text/x-python",
   "name": "python",
   "nbconvert_exporter": "python",
   "pygments_lexer": "ipython3",
   "version": "3.6.3"
  }
 },
 "nbformat": 4,
 "nbformat_minor": 2
}
